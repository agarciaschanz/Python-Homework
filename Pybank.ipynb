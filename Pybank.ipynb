{
 "cells": [
  {
   "cell_type": "code",
   "execution_count": 18,
   "metadata": {},
   "outputs": [],
   "source": [
    "import os\n",
    "import csv\n",
    "import math\n",
    "\n",
    "#Variable list\n",
    "total_months = 0\n",
    "net_total = 0\n",
    "monthly_chg = []\n",
    "month_count = []\n",
    "greatest_increase = 0\n",
    "greatest_month_increase = 0\n",
    "greatest_decrease = 0\n",
    "greatest_month_decrease = 0\n",
    "\n",
    "csvpath = os.path.join('..',  'resources', 'budget_data.csv')"
   ]
  },
  {
   "cell_type": "code",
   "execution_count": 19,
   "metadata": {},
   "outputs": [],
   "source": [
    "with open(csvpath, newline='') as csvfile:\n",
    "\n",
    "   csvreader = csv.reader(csvfile, delimiter=',')\n",
    "   csv_header = next(csvreader)\n",
    "   row = next(csvreader)\n",
    "   \n",
    "   previous_row = int(row[1])\n",
    "   total_months += 1  \n",
    "   net_total += int(row[1])\n",
    "   greatest_increase = int(row[1])\n",
    "   greatest_month_increase = row[0]\n",
    "\n",
    "   for row in csvreader:\n",
    "      #The total number of months included in the dataset\n",
    "      total_months += 1\n",
    "      #The net total amount of \"Profit/Losses\" over the entire period\n",
    "      net_total += int(row[1])\n",
    "      #The average of the changes in \"Profit/Losses\" over the entire period\n",
    "      profit_change = int(row[1]) - previous_row\n",
    "      monthly_chg.append(profit_change)\n",
    "      previous_row = int(row[1])\n",
    "      month_count.append(row[0])\n",
    "      #The greatest increase in profits (date and amount) over the entire period\n",
    "      if int(row[1]) > greatest_increase:\n",
    "         greatest_increase = int(row[1])\n",
    "         greatest_month_increase = row[0]\n",
    "      #The greatest decrease in losses (date and amount) over the entire period\n",
    "      if int(row[1]) < greatest_increase:\n",
    "         greatest_decrease = int(row[1])\n",
    "         greatest_month_decrease = row[0]\n",
    "      \n",
    "      average_change = sum(monthly_chg) / len(monthly_chg)\n",
    "      highest = max(monthly_chg)\n",
    "      lowest = min(monthly_chg)"
   ]
  },
  {
   "cell_type": "code",
   "execution_count": 19,
   "metadata": {},
   "outputs": [
    {
     "name": "stdout",
     "output_type": "stream",
     "text": [
      "Financial Analysis\n",
      "----------------------------\n",
      "Total Months: 172\n",
      "Total: $76765156\n",
      "Average Change: $-2315.12\n",
      "Greatest Increase in Profits:, Feb-2012, ($1926159)\n",
      "Greatest Decrease in Profits:, Feb-2017, ($-2196167)\n"
     ]
    }
   ],
   "source": [
    "      \n",
    "   \n",
    "\n",
    "#Final Analysis\n",
    "print(\"Financial Analysis\")\n",
    "print(\"----------------------------\")\n",
    "print(\"Total Months: \" + str(total_months))\n",
    "print(\"Total: $\" + str(net_total))\n",
    "print(f\"Average Change: ${average_change:.2f}\")\n",
    "print(f\"Greatest Increase in Profits:, {greatest_month_increase}, (${highest})\")\n",
    "print(f\"Greatest Decrease in Profits:, {greatest_month_decrease}, (${lowest})\")"
   ]
  },
  {
   "cell_type": "code",
   "execution_count": 16,
   "metadata": {},
   "outputs": [],
   "source": [
    "output_file = os.path.join('Financial_Analysis.txt')\n",
    "with open(output_file, 'w',) as txtfile:\n",
    "   txtfile.write(f\"Financial Analysis\\n\")\n",
    "   txtfile.write(f\"----------------------------\\n\")\n",
    "   txtfile.write(f\"Total Months: {total_months}\\n\")\n",
    "   txtfile.write(f\"Total: ${net_total}\\n\")\n",
    "   txtfile.write(f\"Average Change: ${average_change:.2f}\\n\")\n",
    "   txtfile.write(f\"Greatest Increase in Profits:, {greatest_month_increase}, (${highest})\\n\")\n",
    "   txtfile.write(f\"Greatest Decrease in Profits:, {greatest_month_decrease}, (${lowest})\\n\")\n"
   ]
  }
 ],
 "metadata": {
  "kernelspec": {
   "display_name": "Python 3",
   "language": "python",
   "name": "python3"
  },
  "language_info": {
   "codemirror_mode": {
    "name": "ipython",
    "version": 3
   },
   "file_extension": ".py",
   "mimetype": "text/x-python",
   "name": "python",
   "nbconvert_exporter": "python",
   "pygments_lexer": "ipython3",
   "version": "3.8.5"
  }
 },
 "nbformat": 4,
 "nbformat_minor": 4
}
